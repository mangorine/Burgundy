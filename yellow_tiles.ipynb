{
 "cells": [
  {
   "cell_type": "markdown",
   "id": "94ec4e98",
   "metadata": {},
   "source": [
    "YELLOW TILES BURGUNDY"
   ]
  },
  {
   "cell_type": "code",
   "execution_count": null,
   "id": "0fb53c43",
   "metadata": {},
   "outputs": [],
   "source": [
    "from abc import ABC, abstractmethod\n",
    "import player\n",
    "\n",
    "class YellowTiles(ABC):\n",
    "    # of the 26 tiles, there are THREE categories\n",
    "    @abstractmethod\n",
    "    def __init__(self, tile_id: str, black_tile: bool, name: str, description: str,owner: player):\n",
    "        self.tile_id = tile_id\n",
    "        self.black_tile = False\n",
    "        self.name = name\n",
    "        self.description = description\n",
    "        self.owner = None\n",
    "    \n",
    "    def on_board(self, player_id):\n",
    "        self.owner = player_id\n",
    "    #peut-être rajouter des méthodes mais plus tard\n",
    "\n",
    "\n",
    "class Income(YellowTiles):\n",
    "    # A METTRE EN ABSTRACT METHOD AUSSI?????\n",
    "    # ex: when you get to gain workers or silver coins\n",
    "    def __init__(self, tile_id: str, black_tile: bool, name: str, description: str,owner: player):\n",
    "        super().__init__(tile_id,black_tile, name, description)\n",
    "\n",
    "    def on_end_of_phase(self):\n",
    "        ...\n",
    "\n",
    "    def on_action(self, action_type):\n",
    "        ...\n",
    "\n",
    "\n",
    "class RuleModification(YellowTiles):\n",
    "    # ex: add two of the same building in the same group\n",
    "    def __init__(self, tile_id: str, black_tile: bool, name: str, description: str,owner: player, modification_effect: function):\n",
    "        super().__init__(tile_id, name, description)\n",
    "        self.modification_effect = modification_effect\n",
    "        \"\"\"\"Maybe smt to change here, where to put this method???\"\"\"\n",
    "\n",
    "\n",
    "    def apply_effect(self, action_type, data):\n",
    "        # This method would be called by the game engine when a relevant action occurs\n",
    "        return self.modification_effect(action_type, data)\n",
    "\n",
    "\n",
    "class Scoring(YellowTiles): \n",
    "    # ex: count the numbers of buildings in the domain at the end of the game\n",
    "    def __init__(self, tile_id: str, black_tile: bool, name: str, description: str, owner: player, scoring_condition):\n",
    "        # à voir quel est le type de scoring condition\n",
    "        super().__init__(tile_id, name, description)\n",
    "        self.scoring_condition = scoring_condition  \n",
    "        # make a method to count how many of the buildings he got in his domain\n",
    "        \"\"\"\"Maybe smt to change here, where to put this method???\"\"\"\n",
    "\n",
    "    def calculate_vp_end_of_game(self):\n",
    "        if self.owner:\n",
    "            return self.scoring_condition(self.owner) \n",
    "        return 0\n",
    " \n"
   ]
  },
  {
   "cell_type": "markdown",
   "id": "fa2db8e7",
   "metadata": {},
   "source": [
    "1. FOR THE Income CLASS\n",
    "\n",
    "[2,4,13]\n",
    "\n",
    "2. FOR THE RuleModification CLASS\n",
    "\n",
    "[1,3,5,6,7,8,9,10,11,12,14]\n",
    "\n",
    "3. FOR THE Scoring CLASS\n",
    "\n",
    "[15,16,17,18,19,20,21,22,23,24,25,26]"
   ]
  },
  {
   "cell_type": "markdown",
   "id": "78618d05",
   "metadata": {},
   "source": [
    "How it could possibly be implemented in the game:\n",
    "\n",
    "BUT WHERE??"
   ]
  },
  {
   "cell_type": "code",
   "execution_count": null,
   "id": "8b7ac5bb",
   "metadata": {},
   "outputs": [],
   "source": [
    "# for the class ScoringYellowTile:\n",
    "total_yellow_tiles_vp = 0\n",
    "for tile in player.yellow_tiles:\n",
    "    if isinstance(tile,ScoringYellowTile):\n",
    "        total_yellow_tiles_vp += calculate_vp_end_of_game() \n",
    "    "
   ]
  }
 ],
 "metadata": {
  "kernelspec": {
   "display_name": "mynation",
   "language": "python",
   "name": "python3"
  },
  "language_info": {
   "codemirror_mode": {
    "name": "ipython",
    "version": 3
   },
   "file_extension": ".py",
   "mimetype": "text/x-python",
   "name": "python",
   "nbconvert_exporter": "python",
   "pygments_lexer": "ipython3",
   "version": "3.13.2"
  }
 },
 "nbformat": 4,
 "nbformat_minor": 5
}
