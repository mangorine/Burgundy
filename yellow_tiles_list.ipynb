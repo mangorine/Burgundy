{
 "cells": [
  {
   "cell_type": "code",
   "execution_count": null,
   "id": "66d65d2d",
   "metadata": {},
   "outputs": [],
   "source": [
    "import yellow_tiles"
   ]
  },
  {
   "cell_type": "code",
   "execution_count": null,
   "id": "84c41d0a",
   "metadata": {},
   "outputs": [],
   "source": [
    "EXPANSION_TILE_DEFINITIONS = {\n",
    "     1: (RuleModification, \"Flexible Zoning\", \"Allows multiple buildings of the same type to be placed in a single city.\"), # type: ignore\n",
    "     2: (Income, \"Mine Foreman\", \"Gain 1 worker for each of your mines at the end of each phase.\"), # type: ignore\n",
    "     3: (RuleModification, \"Master Merchant\", \"Receive 2 Silverlings instead of 1 for each good sold.\"), # type: ignore\n",
    "     4: (Income, \"Trade Connections\", \"Gain 1 worker each time you sell goods.\"), # type: ignore\n",
    "     5: (RuleModification, \"Advanced Shipping\", \"When adding a ship, take goods from two neighboring spaces instead of one.\"), # type: ignore\n",
    "     6: (RuleModification, \"Market Access\", \"May buy from any of the seven depots (including the black depot).\"), # type: ignore\n",
    "     7: (RuleModification,black_tile = True, \"Animal Husbandry\", \"Gain 1 additional victory point for each animal tile placed.\"),\n",
    "     8: (RuleModification, \"Master Laborer\", \"Adjust a die result by +/- 2 per worker paid (instead of +/- 1).\"),\n",
    "     9: (RuleModification, \"Free Architecture\", \"Adjust die roll by +/- 1 when placing buildings for free (without workers).\"),\n",
    "     10: (RuleModification, \"Free Seafaring & Husbandry\", \"Adjust die roll by +/- 1 when placing ships or animals for free (without workers).\"),\n",
    "     11: (RuleModification, \"Free Civic Development\", \"Adjust die roll by +/- 1 when placing castles, mines, or knowledge tiles for free (without workers).\"),\n",
    "     12: (RuleModification,black_tile = True, \"Supply Chain Expertise\", \"Adjust die roll by +/- 1 when taking new six-sided tiles from the board for free (without workers).\"),\n",
    "     13: (Income, \"Recruitment Bonus\", \"Gain 1 Silverling in addition to the workers for the 'Take worker tiles' action.\"),\n",
    "     14: (RuleModification,black_tile = True, \"Mass Recruitment\", \"Receive 4 workers instead of 2 for the 'Take worker tiles' action.\"),\n",
    "     15: (Scoring, \"Goods Diversity Scoring\", \"Gain 3 VP at the end of the game for each type of good you have sold.\",\n",
    "         lambda p: p.sold_goods.count_unique_types() * 3),\n",
    "     16: (Scoring, \"Warehouse Scoring\", \"4 VP for each Warehouse.\",\n",
    "         lambda p: p.estate.count_building_type(\"Warehouse\") * 4),\n",
    "     17: (Scoring, \"Watchtower Scoring\", \"4 VP for each Watchtower building.\",\n",
    "         lambda p: p.estate.count_building_type(\"Watchtower\") * 4),\n",
    "     18: (Scoring, \"Carpenter's Workshop Scoring\", \"4 VP for each Carpenter's Workshop building.\",\n",
    "         lambda p: p.estate.count_carpenters_workshop() * 4),\n",
    "     19: (Scoring, \"Church Scoring\", \"4 VP for each Church building.\",\n",
    "         lambda p: p.estate.count_building_type(\"Church\") * 4),\n",
    "     20: (Scoring, \"Market Scoring\", \"4 VP for each Market building.\",\n",
    "         lambda p: p.estate.count_building_type(\"Market\") * 4),\n",
    "     21: (Scoring, \"Boarding House Scoring\", \"4 VP for each Boarding House.\",\n",
    "         lambda p: p.estate.count_building_type(\"Boarding House\") * 4),\n",
    "     22: (Scoring, \"Bank Scoring\", \"4 VP for each Bank building.\",\n",
    "         lambda p: p.estate.count_building_type(\"Bank\") * 4),\n",
    "     23: (Scoring, \"City Hall\", \"4 VP for each City Hall building.\",\n",
    "         lambda p: p.estate.count_building_type(\"City Hall\") * 4),\n",
    "     24: (Scoring, black_tile = True, \"Animal Diversity Scoring\", \"Gain 4 VP at the end of the game for each different animal type on your estate.\",\n",
    "         lambda p: p.estate.count_unique_animal_types() * 4),\n",
    "     25: (Scoring, black_tile = True, \"Goods Volume Scoring\", \"Gain 1 VP at the end of the game for each individual sold goods tile.\",\n",
    "         lambda p: p.sold_goods.count_total_tiles() * 1),\n",
    "     26: (Scoring, \"Bonus Tile Scoring\", \"Gain 2 VP at the end of the game for each bonus tile claimed.\",\n",
    "          lambda p: p.count_bonus_tiles() * 2)\n",
    "}"
   ]
  },
  {
   "cell_type": "code",
   "execution_count": null,
   "id": "f7453ed6",
   "metadata": {},
   "outputs": [],
   "source": [
    "def create_yellow_tile(tile_id):\n",
    "    \"\"\"\n",
    "    Factory that creates a yellow tile object using the central registry.\n",
    "    \"\"\"\n",
    "    if tile_id not in YELLOW_TILE_DEFINITIONS:\n",
    "        raise ValueError(f\"No yellow tile definition found for ID: {tile_id}\")\n",
    "\n",
    "    # Unpack the data from our registry\n",
    "    tile_data = YELLOW_TILE_DEFINITIONS[tile_id]\n",
    "    TileClass, name, description = tile_data[0], tile_data[1], tile_data[2]\n",
    "    \n",
    "    # If there's extra logic (like for scoring tiles), pass it to the constructor\n",
    "    if len(tile_data) > 3:\n",
    "        extra_logic = tile_data[3]\n",
    "        return TileClass(tile_id, name, description, extra_logic)\n",
    "    else:\n",
    "        return TileClass(tile_id, name, description)"
   ]
  }
 ],
 "metadata": {
  "kernelspec": {
   "display_name": "mynation",
   "language": "python",
   "name": "python3"
  },
  "language_info": {
   "codemirror_mode": {
    "name": "ipython",
    "version": 3
   },
   "file_extension": ".py",
   "mimetype": "text/x-python",
   "name": "python",
   "nbconvert_exporter": "python",
   "pygments_lexer": "ipython3",
   "version": "3.13.2"
  }
 },
 "nbformat": 4,
 "nbformat_minor": 5
}
